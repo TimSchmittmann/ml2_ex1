{
 "cells": [
  {
   "cell_type": "code",
   "execution_count": 1,
   "metadata": {},
   "outputs": [
    {
     "name": "stderr",
     "output_type": "stream",
     "text": [
      "Using TensorFlow backend.\n"
     ]
    },
    {
     "name": "stdout",
     "output_type": "stream",
     "text": [
      "dimof_input:  2\n",
      "dimof_output:  2\n",
      "batch_size:  128\n",
      "dimof_middle:  100\n",
      "dropout:  0.2\n",
      "countof_epoch:  100\n",
      "verbose:  0\n",
      "\n"
     ]
    },
    {
     "name": "stderr",
     "output_type": "stream",
     "text": [
      "/root/miniconda2/lib/python2.7/site-packages/ipykernel_launcher.py:59: UserWarning: Update your `Dense` call to the Keras 2 API: `Dense(100, activation=\"tanh\", kernel_initializer=\"uniform\", input_dim=2)`\n",
      "/root/miniconda2/lib/python2.7/site-packages/ipykernel_launcher.py:61: UserWarning: Update your `Dense` call to the Keras 2 API: `Dense(100, activation=\"tanh\", kernel_initializer=\"uniform\")`\n",
      "/root/miniconda2/lib/python2.7/site-packages/ipykernel_launcher.py:63: UserWarning: Update your `Dense` call to the Keras 2 API: `Dense(2, activation=\"softmax\", kernel_initializer=\"uniform\")`\n",
      "/root/miniconda2/lib/python2.7/site-packages/keras/models.py:942: UserWarning: The `nb_epoch` argument in `fit` has been renamed `epochs`.\n",
      "  warnings.warn('The `nb_epoch` argument in `fit` '\n"
     ]
    },
    {
     "name": "stdout",
     "output_type": "stream",
     "text": [
      "loss:  0.22638867497444154\n",
      "accuracy:  0.7\n",
      "\n",
      "prediction of [1, 1]:  [0]\n",
      "prediction of [8, 8]:  [1]\n"
     ]
    },
    {
     "data": {
      "image/png": "[encoded data removed]",
      "text/plain": [
       "<Figure size 402.375x360 with 1 Axes>"
      ]
     },
     "metadata": {},
     "output_type": "display_data"
    },
    {
     "data": {
      "image/png": "[encoded data removed]",
      "text/plain": [
       "<Figure size 402.375x360 with 1 Axes>"
      ]
     },
     "metadata": {},
     "output_type": "display_data"
    },
    {
     "data": {
      "image/png": "[encoded data removed]",
      "text/plain": [
       "<Figure size 443.625x360 with 1 Axes>"
      ]
     },
     "metadata": {},
     "output_type": "display_data"
    }
   ],
   "source": [
    "from __future__ import absolute_import\n",
    "from __future__ import print_function\n",
    "# For manipulating data\n",
    "import pandas as pd\n",
    "import numpy as np\n",
    "from keras.utils import np_utils # For y values\n",
    "# For plotting\n",
    "%matplotlib inline\n",
    "import seaborn as sns\n",
    "# For Keras\n",
    "from keras.models import Sequential\n",
    "from keras.layers.core import Dense, Dropout\n",
    "\n",
    "\n",
    "# Set data\n",
    "data = np.array([\n",
    "    [0, 0, 0],\n",
    "    [1, 1, 0],\n",
    "    [2, 2, 0],\n",
    "    [3, 3, 0],\n",
    "    [4, 4, 0],\n",
    "    [5, 5, 1],\n",
    "    [6, 6, 1],\n",
    "    [7, 7, 1],\n",
    "    [8, 8, 1],\n",
    "    [9, 9, 1],\n",
    "])\n",
    "data = np.vstack((data, data, data, data)) # Just for sufficient input\n",
    "data = pd.DataFrame(data, columns=['x', 'y', 'class'])\n",
    "\n",
    "# Split X and y\n",
    "X = data.iloc[:, :-1].values\n",
    "y = data.iloc[:, -1:].values\n",
    "\n",
    "# Get dimensions of input and output\n",
    "dimof_input = X.shape[1]\n",
    "dimof_output = np.max(y) + 1\n",
    "print('dimof_input: ', dimof_input)\n",
    "print('dimof_output: ', dimof_output)\n",
    "\n",
    "# Set y categorical\n",
    "y = np_utils.to_categorical(y, dimof_output)\n",
    "\n",
    "# Set constants\n",
    "batch_size = 128\n",
    "dimof_middle = 100\n",
    "dropout = 0.2\n",
    "countof_epoch = 100\n",
    "verbose = 0\n",
    "print('batch_size: ', batch_size)\n",
    "print('dimof_middle: ', dimof_middle)\n",
    "print('dropout: ', dropout)\n",
    "print('countof_epoch: ', countof_epoch)\n",
    "print('verbose: ', verbose)\n",
    "print()\n",
    "\n",
    "# Set model\n",
    "model = Sequential()\n",
    "model.add(Dense(dimof_middle, input_dim=dimof_input, init='uniform', activation='tanh'))\n",
    "model.add(Dropout(dropout))\n",
    "model.add(Dense(dimof_middle, init='uniform', activation='tanh'))\n",
    "model.add(Dropout(dropout))\n",
    "model.add(Dense(dimof_output, init='uniform', activation='softmax'))\n",
    "model.compile(loss='mse', optimizer='sgd', metrics=['accuracy'])\n",
    "\n",
    "# Train\n",
    "model.fit(\n",
    "    X, y,\n",
    "    validation_split=0.2,\n",
    "    batch_size=batch_size, nb_epoch=countof_epoch, verbose=verbose)\n",
    "\n",
    "# Evaluate\n",
    "loss, accuracy = model.evaluate(X, y, verbose=verbose)\n",
    "print('loss: ', loss)\n",
    "print('accuracy: ', accuracy)\n",
    "print()\n",
    "\n",
    "# Predict\n",
    "# model.predict_classes(X, verbose=verbose)\n",
    "print('prediction of [1, 1]: ', model.predict_classes(np.array([[1, 1]]), verbose=verbose))\n",
    "print('prediction of [8, 8]: ', model.predict_classes(np.array([[8, 8]]), verbose=verbose))\n",
    "\n",
    "# Plot\n",
    "sns.lmplot('x', 'y', data, 'class', fit_reg=False).set(title='Data')\n",
    "data_ = data.copy()\n",
    "data_['class'] = model.predict_classes(X, verbose=0)\n",
    "sns.lmplot('x', 'y', data_, 'class', fit_reg=False).set(title='Trained Result')\n",
    "data_['class'] = [ 'Error' if is_error else 'Non Error' for is_error in data['class'] != data_['class']]\n",
    "sns.lmplot('x', 'y', data_, 'class', fit_reg=False).set(title='Errors')\n",
    "None"
   ]
  },
  {
   "cell_type": "code",
   "execution_count": null,
   "metadata": {},
   "outputs": [],
   "source": []
  }
 ],
 "metadata": {
  "kernelspec": {
   "display_name": "Python 2",
   "language": "python",
   "name": "python2"
  },
  "language_info": {
   "codemirror_mode": {
    "name": "ipython",
    "version": 2
   },
   "file_extension": ".py",
   "mimetype": "text/x-python",
   "name": "python",
   "nbconvert_exporter": "python",
   "pygments_lexer": "ipython2",
   "version": "2.7.14"
  }
 },
 "nbformat": 4,
 "nbformat_minor": 2
}
